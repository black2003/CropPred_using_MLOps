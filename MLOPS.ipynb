{
 "cells": [
  {
   "cell_type": "code",
   "execution_count": 2,
   "id": "f03e96c3-3f36-4476-a4be-ee43daedb9d8",
   "metadata": {},
   "outputs": [],
   "source": [
    "import os\n",
    "os.makedirs(\"src\", exist_ok=True)\n"
   ]
  },
  {
   "cell_type": "code",
   "execution_count": 3,
   "id": "4fce3418-8cfd-4d14-bc5a-5876cdb20730",
   "metadata": {},
   "outputs": [
    {
     "name": "stdout",
     "output_type": "stream",
     "text": [
      "Writing src/data_ingestion.py\n"
     ]
    }
   ],
   "source": [
    "%%writefile src/data_ingestion.py\n",
    "import pandas as pd\n",
    "\n",
    "def load_data(file_path: str) -> pd.DataFrame:\n",
    "    \"\"\"\n",
    "    Loads the dataset from a given CSV file path.\n",
    "\n",
    "    Args:\n",
    "        file_path (str): Path to the CSV file.\n",
    "\n",
    "    Returns:\n",
    "        pd.DataFrame: Loaded dataset as a pandas DataFrame.\n",
    "    \"\"\"\n",
    "    try:\n",
    "        df = pd.read_csv(\"Crop_recommendation.csv\")\n",
    "        print(f\" Data loaded successfully. Shape: {df.shape}\")\n",
    "        return df\n",
    "    except Exception as e:\n",
    "        print(f\" Error loading data: {e}\")\n",
    "        return None\n"
   ]
  },
  {
   "cell_type": "code",
   "execution_count": 4,
   "id": "513bd759-e13d-4f21-8c34-23fb21da6e71",
   "metadata": {},
   "outputs": [
    {
     "name": "stdout",
     "output_type": "stream",
     "text": [
      "Writing src/data_preprocessing.py\n"
     ]
    }
   ],
   "source": [
    "%%writefile src/data_preprocessing.py\n",
    "import pandas as pd\n",
    "from sklearn.preprocessing import LabelEncoder\n",
    "\n",
    "def preprocess_data(df: pd.DataFrame) -> pd.DataFrame:\n",
    "    \"\"\"\n",
    "    Cleans and preprocesses the dataset.\n",
    "\n",
    "    Steps:\n",
    "        - Handles missing values (if any)\n",
    "        - Encodes categorical columns (e.g., 'label')\n",
    "\n",
    "    Args:\n",
    "        df (pd.DataFrame): Input dataset.\n",
    "\n",
    "    Returns:\n",
    "        pd.DataFrame: Preprocessed dataset.\n",
    "    \"\"\"\n",
    "    # Drop duplicates if any\n",
    "    df = df.drop_duplicates()\n",
    "\n",
    "    # Fill missing values if they exist\n",
    "    df = df.fillna(df.median(numeric_only=True))\n",
    "\n",
    "    # Encode 'label' column\n",
    "    if 'label' in df.columns:\n",
    "        le = LabelEncoder()\n",
    "        df['label'] = le.fit_transform(df['label'])\n",
    "\n",
    "    print(\" Data preprocessing completed.\")\n",
    "    return df\n"
   ]
  },
  {
   "cell_type": "code",
   "execution_count": 5,
   "id": "43cd1af8-1747-46f7-a75c-47f94f0c8891",
   "metadata": {},
   "outputs": [
    {
     "name": "stdout",
     "output_type": "stream",
     "text": [
      "Writing src/feature_engineering.py\n"
     ]
    }
   ],
   "source": [
    "%%writefile src/feature_engineering.py\n",
    "import pandas as pd\n",
    "\n",
    "def split_features_and_target(df: pd.DataFrame):\n",
    "    \"\"\"\n",
    "    Splits dataset into input features (X) and target variable (y).\n",
    "\n",
    "    Args:\n",
    "        df (pd.DataFrame): Preprocessed dataset.\n",
    "\n",
    "    Returns:\n",
    "        tuple: X (features), y (target)\n",
    "    \"\"\"\n",
    "    X = df.drop(columns=['label'])\n",
    "    y = df['label']\n",
    "\n",
    "    print(\" Feature and target split completed.\")\n",
    "    return X, y\n"
   ]
  },
  {
   "cell_type": "code",
   "execution_count": 6,
   "id": "6cd38f97-abec-44ce-b482-42635f810f16",
   "metadata": {},
   "outputs": [
    {
     "name": "stdout",
     "output_type": "stream",
     "text": [
      "Writing src/model_engineering.py\n"
     ]
    }
   ],
   "source": [
    "%%writefile src/model_engineering.py\n",
    "from sklearn.ensemble import RandomForestClassifier\n",
    "from sklearn.model_selection import train_test_split\n",
    "\n",
    "def train_model(X, y):\n",
    "    \"\"\"\n",
    "    Trains a Random Forest Classifier on the dataset.\n",
    "\n",
    "    Args:\n",
    "        X (pd.DataFrame): Input features.\n",
    "        y (pd.Series): Target variable.\n",
    "\n",
    "    Returns:\n",
    "        model (RandomForestClassifier): Trained model.\n",
    "        X_test, y_test: Test data for evaluation.\n",
    "    \"\"\"\n",
    "    X_train, X_test, y_train, y_test = train_test_split(\n",
    "        X, y, test_size=0.2, random_state=42\n",
    "    )\n",
    "\n",
    "    model = RandomForestClassifier(\n",
    "        n_estimators=100, random_state=42\n",
    "    )\n",
    "\n",
    "    model.fit(X_train, y_train)\n",
    "    print(\" Model training completed.\")\n",
    "\n",
    "    return model, X_test, y_test\n"
   ]
  },
  {
   "cell_type": "code",
   "execution_count": 7,
   "id": "50974ec5-16e0-453d-baa4-7010352f9df6",
   "metadata": {},
   "outputs": [
    {
     "name": "stdout",
     "output_type": "stream",
     "text": [
      "Writing src/model_evaluation.py\n"
     ]
    }
   ],
   "source": [
    "%%writefile src/model_evaluation.py\n",
    "from sklearn.metrics import accuracy_score, classification_report, confusion_matrix\n",
    "\n",
    "def evaluate_model(model, X_test, y_test):\n",
    "    \"\"\"\n",
    "    Evaluates the trained model on test data.\n",
    "\n",
    "    Args:\n",
    "        model: Trained RandomForest model.\n",
    "        X_test: Test features.\n",
    "        y_test: Test labels.\n",
    "\n",
    "    Returns:\n",
    "        dict: Evaluation metrics.\n",
    "    \"\"\"\n",
    "    y_pred = model.predict(X_test)\n",
    "\n",
    "    acc = accuracy_score(y_test, y_pred)\n",
    "    print(\" Model evaluation completed.\")\n",
    "    print(f\"Accuracy: {acc:.4f}\\n\")\n",
    "    print(\"Classification Report:\\n\", classification_report(y_test, y_pred))\n",
    "    print(\"Confusion Matrix:\\n\", confusion_matrix(y_test, y_pred))\n",
    "\n",
    "    return {\"accuracy\": acc}\n"
   ]
  },
  {
   "cell_type": "code",
   "execution_count": 8,
   "id": "5fd25689-4224-46f0-8b80-0ddf0af76bfe",
   "metadata": {},
   "outputs": [
    {
     "name": "stdout",
     "output_type": "stream",
     "text": [
      " Data loaded successfully. Shape: (2200, 8)\n",
      " Data preprocessing completed.\n",
      " Feature and target split completed.\n",
      " Model training completed.\n",
      " Model evaluation completed.\n",
      "Accuracy: 0.9932\n",
      "\n",
      "Classification Report:\n",
      "               precision    recall  f1-score   support\n",
      "\n",
      "           0       1.00      1.00      1.00        23\n",
      "           1       1.00      1.00      1.00        21\n",
      "           2       1.00      1.00      1.00        20\n",
      "           3       1.00      1.00      1.00        26\n",
      "           4       1.00      1.00      1.00        27\n",
      "           5       1.00      1.00      1.00        17\n",
      "           6       1.00      1.00      1.00        17\n",
      "           7       1.00      1.00      1.00        14\n",
      "           8       0.92      1.00      0.96        23\n",
      "           9       1.00      1.00      1.00        20\n",
      "          10       0.92      1.00      0.96        11\n",
      "          11       1.00      1.00      1.00        21\n",
      "          12       1.00      1.00      1.00        19\n",
      "          13       1.00      0.96      0.98        24\n",
      "          14       1.00      1.00      1.00        19\n",
      "          15       1.00      1.00      1.00        17\n",
      "          16       1.00      1.00      1.00        14\n",
      "          17       1.00      1.00      1.00        23\n",
      "          18       1.00      1.00      1.00        23\n",
      "          19       1.00      1.00      1.00        23\n",
      "          20       1.00      0.89      0.94        19\n",
      "          21       1.00      1.00      1.00        19\n",
      "\n",
      "    accuracy                           0.99       440\n",
      "   macro avg       0.99      0.99      0.99       440\n",
      "weighted avg       0.99      0.99      0.99       440\n",
      "\n",
      "Confusion Matrix:\n",
      " [[23  0  0  0  0  0  0  0  0  0  0  0  0  0  0  0  0  0  0  0  0  0]\n",
      " [ 0 21  0  0  0  0  0  0  0  0  0  0  0  0  0  0  0  0  0  0  0  0]\n",
      " [ 0  0 20  0  0  0  0  0  0  0  0  0  0  0  0  0  0  0  0  0  0  0]\n",
      " [ 0  0  0 26  0  0  0  0  0  0  0  0  0  0  0  0  0  0  0  0  0  0]\n",
      " [ 0  0  0  0 27  0  0  0  0  0  0  0  0  0  0  0  0  0  0  0  0  0]\n",
      " [ 0  0  0  0  0 17  0  0  0  0  0  0  0  0  0  0  0  0  0  0  0  0]\n",
      " [ 0  0  0  0  0  0 17  0  0  0  0  0  0  0  0  0  0  0  0  0  0  0]\n",
      " [ 0  0  0  0  0  0  0 14  0  0  0  0  0  0  0  0  0  0  0  0  0  0]\n",
      " [ 0  0  0  0  0  0  0  0 23  0  0  0  0  0  0  0  0  0  0  0  0  0]\n",
      " [ 0  0  0  0  0  0  0  0  0 20  0  0  0  0  0  0  0  0  0  0  0  0]\n",
      " [ 0  0  0  0  0  0  0  0  0  0 11  0  0  0  0  0  0  0  0  0  0  0]\n",
      " [ 0  0  0  0  0  0  0  0  0  0  0 21  0  0  0  0  0  0  0  0  0  0]\n",
      " [ 0  0  0  0  0  0  0  0  0  0  0  0 19  0  0  0  0  0  0  0  0  0]\n",
      " [ 0  0  0  0  0  0  0  0  0  0  1  0  0 23  0  0  0  0  0  0  0  0]\n",
      " [ 0  0  0  0  0  0  0  0  0  0  0  0  0  0 19  0  0  0  0  0  0  0]\n",
      " [ 0  0  0  0  0  0  0  0  0  0  0  0  0  0  0 17  0  0  0  0  0  0]\n",
      " [ 0  0  0  0  0  0  0  0  0  0  0  0  0  0  0  0 14  0  0  0  0  0]\n",
      " [ 0  0  0  0  0  0  0  0  0  0  0  0  0  0  0  0  0 23  0  0  0  0]\n",
      " [ 0  0  0  0  0  0  0  0  0  0  0  0  0  0  0  0  0  0 23  0  0  0]\n",
      " [ 0  0  0  0  0  0  0  0  0  0  0  0  0  0  0  0  0  0  0 23  0  0]\n",
      " [ 0  0  0  0  0  0  0  0  2  0  0  0  0  0  0  0  0  0  0  0 17  0]\n",
      " [ 0  0  0  0  0  0  0  0  0  0  0  0  0  0  0  0  0  0  0  0  0 19]]\n"
     ]
    },
    {
     "data": {
      "text/plain": [
       "{'accuracy': 0.9931818181818182}"
      ]
     },
     "execution_count": 8,
     "metadata": {},
     "output_type": "execute_result"
    }
   ],
   "source": [
    "import sys\n",
    "sys.path.append(\"src\")\n",
    "\n",
    "from data_ingestion import load_data\n",
    "from data_preprocessing import preprocess_data\n",
    "from feature_engineering import split_features_and_target\n",
    "from model_engineering import train_model\n",
    "from model_evaluation import evaluate_model\n",
    "\n",
    "# Run the pipeline\n",
    "df = load_data(\"Crop_recommendation.csv\")\n",
    "processed_df = preprocess_data(df)\n",
    "X, y = split_features_and_target(processed_df)\n",
    "model, X_test, y_test = train_model(X, y)\n",
    "evaluate_model(model, X_test, y_test)\n"
   ]
  },
  {
   "cell_type": "code",
   "execution_count": 9,
   "id": "41992588-6db8-4aab-b978-9bf99f3e0fac",
   "metadata": {},
   "outputs": [
    {
     "name": "stdout",
     "output_type": "stream",
     "text": [
      "5-fold CV accuracy: 0.9945454545454545\n"
     ]
    }
   ],
   "source": [
    "from sklearn.model_selection import cross_val_score\n",
    "import numpy as np\n",
    "\n",
    "scores = cross_val_score(model, X, y, cv=5)\n",
    "print(\"5-fold CV accuracy:\", np.mean(scores))\n"
   ]
  },
  {
   "cell_type": "code",
   "execution_count": 10,
   "id": "4b94c2d7-6fb5-4492-a22f-a9b3583cf1de",
   "metadata": {},
   "outputs": [
    {
     "data": {
      "image/png": "[encoded data removed]",
      "text/plain": [
       "<Figure size 800x600 with 1 Axes>"
      ]
     },
     "metadata": {},
     "output_type": "display_data"
    }
   ],
   "source": [
    "import matplotlib.pyplot as plt\n",
    "import pandas as pd\n",
    "\n",
    "feature_importances = pd.Series(model.feature_importances_, index=X.columns)\n",
    "feature_importances.sort_values().plot(kind='barh', figsize=(8,6), title=\"Feature Importance\")\n",
    "plt.show()\n"
   ]
  },
  {
   "cell_type": "code",
   "execution_count": null,
   "id": "8f99b131-b3a6-4755-be99-8a0449589545",
   "metadata": {},
   "outputs": [],
   "source": []
  }
 ],
 "metadata": {
  "kernelspec": {
   "display_name": "Python 3 (ipykernel)",
   "language": "python",
   "name": "python3"
  },
  "language_info": {
   "codemirror_mode": {
    "name": "ipython",
    "version": 3
   },
   "file_extension": ".py",
   "mimetype": "text/x-python",
   "name": "python",
   "nbconvert_exporter": "python",
   "pygments_lexer": "ipython3",
   "version": "3.13.5"
  }
 },
 "nbformat": 4,
 "nbformat_minor": 5
}
